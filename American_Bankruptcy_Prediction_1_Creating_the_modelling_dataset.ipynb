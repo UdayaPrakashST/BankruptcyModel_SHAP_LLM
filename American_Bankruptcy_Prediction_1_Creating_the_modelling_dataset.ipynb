{
  "nbformat": 4,
  "nbformat_minor": 0,
  "metadata": {
    "colab": {
      "provenance": [],
      "authorship_tag": "ABX9TyNbHiNRkWIvkqNtGUgfXVl0",
      "include_colab_link": true
    },
    "kernelspec": {
      "name": "python3",
      "display_name": "Python 3"
    },
    "language_info": {
      "name": "python"
    }
  },
  "cells": [
    {
      "cell_type": "markdown",
      "metadata": {
        "id": "view-in-github",
        "colab_type": "text"
      },
      "source": [
        "<a href=\"https://colab.research.google.com/github/UdayaPrakashST/BankruptcyModel_SHAP_LLM/blob/main/American_Bankruptcy_Prediction_1_Creating_the_modelling_dataset.ipynb\" target=\"_parent\"><img src=\"https://colab.research.google.com/assets/colab-badge.svg\" alt=\"Open In Colab\"/></a>"
      ]
    },
    {
      "cell_type": "code",
      "execution_count": null,
      "metadata": {
        "colab": {
          "base_uri": "https://localhost:8080/"
        },
        "id": "dSpc5TxJRYnZ",
        "outputId": "f3130491-8a52-4f48-e780-167fcfd27b07"
      },
      "outputs": [
        {
          "output_type": "stream",
          "name": "stdout",
          "text": [
            "Cloning into 'BankruptcyModel_SHAP_LLM'...\n",
            "remote: Enumerating objects: 3, done.\u001b[K\n",
            "remote: Counting objects: 100% (3/3), done.\u001b[K\n",
            "remote: Compressing objects: 100% (3/3), done.\u001b[K\n",
            "remote: Total 3 (delta 0), reused 0 (delta 0), pack-reused 0 (from 0)\u001b[K\n",
            "Receiving objects: 100% (3/3), 4.43 MiB | 18.66 MiB/s, done.\n"
          ]
        }
      ],
      "source": [
        "!git clone https://github.com/UdayaPrakashST/BankruptcyModel_SHAP_LLM"
      ]
    },
    {
      "cell_type": "code",
      "source": [
        "import pandas as pd\n",
        "import numpy as np"
      ],
      "metadata": {
        "id": "3NqR0yGaed2q"
      },
      "execution_count": 1,
      "outputs": []
    },
    {
      "cell_type": "code",
      "source": [
        "df = pd.read_csv('/content/BankruptcyModel_SHAP_LLM/american_bankruptcy.csv')"
      ],
      "metadata": {
        "id": "4NLVGB1ZesXV"
      },
      "execution_count": null,
      "outputs": []
    },
    {
      "cell_type": "code",
      "source": [],
      "metadata": {
        "id": "F2nMHXObetjS"
      },
      "execution_count": null,
      "outputs": []
    }
  ]
}